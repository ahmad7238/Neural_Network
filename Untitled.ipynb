{
 "cells": [
  {
   "cell_type": "markdown",
   "metadata": {},
   "source": [
    "Title\n",
    "    Class Project(Problem1)\n",
    "         Assumptions: Prismatic channel\n",
    "              fix lateral flow\n",
    "              Rough bed (By only adding Tolh to initial condition)\n",
    "              Trapezoidal cross-section\n",
    " "
   ]
  },
  {
   "cell_type": "markdown",
   "metadata": {},
   "source": [
    "setting"
   ]
  },
  {
   "cell_type": "code",
   "execution_count": 1,
   "metadata": {},
   "outputs": [],
   "source": [
    "import numpy as np\n",
    "\n",
    "S0 = 0.0005\n",
    "Tl = 200*60\n",
    "HnL = 0.33/60000\n",
    "Sideslope = 0\n",
    "n = 0.02\n",
    "L = 400\n",
    "Bottom = 1\n",
    "\n",
    "Totaltime = 300*60\n",
    "dt = 2\n",
    "ElapsedTime = 0\n",
    "Tolh = 10**-2"
   ]
  },
  {
   "cell_type": "markdown",
   "metadata": {},
   "source": [
    "Mesh Generation"
   ]
  },
  {
   "cell_type": "code",
   "execution_count": 3,
   "metadata": {},
   "outputs": [
    {
     "ename": "SyntaxError",
     "evalue": "cannot assign to function call (<ipython-input-3-3bf20d5bfb68>, line 6)",
     "output_type": "error",
     "traceback": [
      "\u001b[0;36m  File \u001b[0;32m\"<ipython-input-3-3bf20d5bfb68>\"\u001b[0;36m, line \u001b[0;32m6\u001b[0m\n\u001b[0;31m    xv(i+1)=xv(i)-dx\u001b[0m\n\u001b[0m    ^\u001b[0m\n\u001b[0;31mSyntaxError\u001b[0m\u001b[0;31m:\u001b[0m cannot assign to function call\n"
     ]
    }
   ],
   "source": [
    "nxc = 400\n",
    "nxv = nxc+1\n",
    "dx = L/nxc\n",
    "xv = np.zeros(nxv-1)\n",
    "for xv,i in enumerate(xv):\n",
    "    xv(i+1)=xv(i)-dx\n",
    "\n",
    "xc = np.zeros(nxc)\n",
    "for i in xc:\n",
    "    xc(i) = 0.5*(xv(i+1)+xv(i))\n",
    "\n",
    "elec = np.zeros(nxc)\n",
    "for i in xv:\n",
    "    elev(i)=5-S0*xv(i)\n",
    "    \n",
    "for i in nxc:\n",
    "    elec(i) = 0.5*(elev(i+1)+elev(i))"
   ]
  }
 ],
 "metadata": {
  "kernelspec": {
   "display_name": "Python 3",
   "language": "python",
   "name": "python3"
  },
  "language_info": {
   "codemirror_mode": {
    "name": "ipython",
    "version": 3
   },
   "file_extension": ".py",
   "mimetype": "text/x-python",
   "name": "python",
   "nbconvert_exporter": "python",
   "pygments_lexer": "ipython3",
   "version": "3.8.0"
  }
 },
 "nbformat": 4,
 "nbformat_minor": 4
}
