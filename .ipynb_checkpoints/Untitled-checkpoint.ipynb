{
 "cells": [
  {
   "cell_type": "markdown",
   "metadata": {},
   "source": [
    "Title\n",
    "    Class Project(Problem1)\n",
    "         Assumptions: Prismatic channel\n",
    "              fix lateral flow\n",
    "              Rough bed (By only adding Tolh to initial condition)\n",
    "              Trapezoidal cross-section\n",
    " "
   ]
  },
  {
   "cell_type": "markdown",
   "metadata": {},
   "source": [
    "setting"
   ]
  },
  {
   "cell_type": "code",
   "execution_count": 2,
   "metadata": {},
   "outputs": [],
   "source": [
    "import numpy as np\n",
    "\n",
    "S0 = 0.0005\n",
    "Tl = 200*60\n",
    "HnL = 0.33/60000\n",
    "Sideslope = 0\n",
    "n = 0.02\n",
    "L = 400\n",
    "Bottom = 1\n",
    "\n",
    "Totaltime = 300*60\n",
    "dt = 2\n",
    "ElapsedTime = 0\n",
    "Tolh = 10**-2"
   ]
  },
  {
   "cell_type": "markdown",
   "metadata": {},
   "source": [
    "Mesh Generation"
   ]
  },
  {
   "cell_type": "code",
   "execution_count": null,
   "metadata": {},
   "outputs": [],
   "source": [
    "nxc = 400\n",
    "nxv = nxc+1\n",
    "dx = L/nxc\n",
    "xv = np.zeros(nxv-1)\n",
    "for i in xv:\n",
    "    xv(i+1)=xv(i-dx)\n",
    "\n",
    "nxc(j)"
   ]
  }
 ],
 "metadata": {
  "kernelspec": {
   "display_name": "Python 3",
   "language": "python",
   "name": "python3"
  },
  "language_info": {
   "codemirror_mode": {
    "name": "ipython",
    "version": 3
   },
   "file_extension": ".py",
   "mimetype": "text/x-python",
   "name": "python",
   "nbconvert_exporter": "python",
   "pygments_lexer": "ipython3",
   "version": "3.8.0"
  }
 },
 "nbformat": 4,
 "nbformat_minor": 4
}
